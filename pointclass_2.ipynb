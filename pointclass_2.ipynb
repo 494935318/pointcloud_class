{
 "metadata": {
  "language_info": {
   "codemirror_mode": {
    "name": "ipython",
    "version": 3
   },
   "file_extension": ".py",
   "mimetype": "text/x-python",
   "name": "python",
   "nbconvert_exporter": "python",
   "pygments_lexer": "ipython3",
   "version": "3.7.9-final"
  },
  "orig_nbformat": 2,
  "kernelspec": {
   "name": "python3",
   "display_name": "Python 3",
   "language": "python"
  }
 },
 "nbformat": 4,
 "nbformat_minor": 2,
 "cells": [
  {
   "cell_type": "code",
   "execution_count": 1,
   "metadata": {},
   "outputs": [],
   "source": [
    "import tensorflow as tf \n",
    "import numpy as np\n",
    "import pandas as pd \n",
    "import matplotlib.pyplot as plt\n",
    "import tensorflow.keras as keras\n",
    "import tensorflow.keras.layers as layers \n",
    "import time\n",
    "import provider\n",
    "# import dataset\n",
    "import glob\n",
    "import utils\n"
   ]
  },
  {
   "cell_type": "code",
   "execution_count": 2,
   "metadata": {},
   "outputs": [],
   "source": [
    "TRAIN_FILES=glob.glob(\"F:\\点云深度学习代码\\Dataset\\modelnet40_ply_hdf5_2048\\*train*.h5\")"
   ]
  },
  {
   "cell_type": "code",
   "execution_count": 3,
   "metadata": {},
   "outputs": [],
   "source": [
    "class self_attention(keras.Model):\n",
    "    def __init__(self,out_dim,k_head):\n",
    "       super(self_attention,self).__init__()\n",
    "       self.out_dim=out_dim\n",
    "       self.k=k_head\n",
    "    def build(self,input_shape):\n",
    "        self.convq=[layers.Conv2D(self.out_dim,1,1) for i in range(self.k)]\n",
    "        self.convk=[layers.Conv2D(self.out_dim,1,1) for i in range(self.k)]\n",
    "        self.convv=[layers.Conv2D(self.out_dim,1,1) for i in range(self.k)]\n",
    "        self.Dense_out=layers.Dense(self.out_dim,activation=\"relu\")\n",
    "        self.norm=keras.layers.BatchNormalization()\n",
    "        self.soft=keras.layers.Softmax()\n",
    "    def call(self,input_feature,training=True):\n",
    "        out=[]\n",
    "        for i in range(self.k):\n",
    "            q=self.convq[i](input_feature)\n",
    "            v=self.convv[i](input_feature)\n",
    "            k=self.convk[i](input_feature)\n",
    "            q=tf.reduce_mean(q,axis=-2,keepdims=True)\n",
    "            # q=tf.tile(q,[1,1,tf.shape(v)[2],1])\n",
    "            k=tf.transpose(k,[0,1,3,2])\n",
    "            qk=tf.matmul(q,k)/tf.sqrt(tf.cast(self.out_dim,tf.float32))\n",
    "            out.append(tf.matmul(self.soft(qk),v))\n",
    "        out=tf.concat(out,axis=-1)\n",
    "        out=self.norm(self.Dense_out(tf.squeeze(out,axis=-2)),training=training)\n",
    "        return  out \n"
   ]
  },
  {
   "cell_type": "code",
   "execution_count": 4,
   "metadata": {},
   "outputs": [],
   "source": [
    "def random_sample(xyz):\n",
    "    num=tf.shape(xyz)[1]\n",
    "    return xyz[:,0:tf.cast(num/2,tf.int32),:]\n"
   ]
  },
  {
   "cell_type": "code",
   "execution_count": 5,
   "metadata": {},
   "outputs": [],
   "source": [
    "class pointcloud_class(keras.Model):\n",
    "    def __init__(self,class_num=10):\n",
    "        super(pointcloud_class,self).__init__()\n",
    "        self.class_num=class_num\n",
    "    def build(self,inputshape):\n",
    "        self.n=7\n",
    "        self.Dense1=keras.layers.Dense(64,activation=\"relu\") \n",
    "        self.Dense2=keras.layers.Dense(128,activation=\"relu\") \n",
    "        self.norm1=keras.layers.BatchNormalization()\n",
    "        self.norm2=keras.layers.BatchNormalization()\n",
    "        self.self_attention=[self_attention(128,1) for i in range(self.n+1)]\n",
    "        self.Dense=[layers.Dense(128,activation=\"relu\") for _ in range(self.n)]\n",
    "        self.Dense3=layers.Dense(self.class_num)\n",
    "        self.soft=keras.layers.Softmax()\n",
    "    def call(self , points_xyz,training=True):\n",
    "        Density=utils.kernel_density_estimation(points_xyz,1.0)\n",
    "        featrue=tf.concat([points_xyz,Density],axis=-1)\n",
    "        featrue=self.Dense1(featrue)\n",
    "        featrue=self.norm1(featrue,training=training)\n",
    "        featrue=self.Dense2(featrue)\n",
    "        featrue=self.norm2(featrue,training=training)\n",
    "        old_xyz=points_xyz\n",
    "        for i in range(self.n):\n",
    "            new_xyz = random_sample(old_xyz)\n",
    "            gouped_xyz,grouped_feature,idx=utils.grouping(featrue,16,old_xyz,new_xyz)\n",
    "            new_xyz=tf.reduce_mean(grouped_xyz,axis=-2)\n",
    "            local_fature=grouped_feature-tf.reduce_mean(grouped_feature,axis=-2,keepdims=True)\n",
    "            global_fature=tf.reduce_max(grouped_featur,axis=-2,keepdims=False)\n",
    "            local_featrue=self.self_attention[i](local_fature,training=training)\n",
    "            featrue=self.Dense[i](tf.concat([local_featrue,global_fature],axis=-1))\n",
    "            old_xyz=new_xyz\n",
    "        grouped_xyz, new_points, idx=utils.grouping_all(featrue,new_xyz)\n",
    "        out=self.self_attention[self.n](new_points,training=training)\n",
    "        out=tf.squeeze(out,axis=1)\n",
    "        out=self.Dense3(out)\n",
    "        out=self.soft(out)\n",
    "        return out\n"
   ]
  },
  {
   "cell_type": "code",
   "execution_count": 2,
   "metadata": {},
   "outputs": [
    {
     "output_type": "error",
     "ename": "AttributeError",
     "evalue": "module 'tensorflow_core.keras.optimizers.schedules' has no attribute 'CosineDecayRestarts'",
     "traceback": [
      "\u001b[1;31m---------------------------------------------------------------------------\u001b[0m",
      "\u001b[1;31mAttributeError\u001b[0m                            Traceback (most recent call last)",
      "\u001b[1;32m<ipython-input-2-b6e6aca78da7>\u001b[0m in \u001b[0;36m<module>\u001b[1;34m\u001b[0m\n\u001b[1;32m----> 1\u001b[1;33m lr_schedule=tf.keras.optimizers.schedules.CosineDecayRestarts(\n\u001b[0m\u001b[0;32m      2\u001b[0m     \u001b[1;36m0.01\u001b[0m\u001b[1;33m,\u001b[0m \u001b[1;36m1000\u001b[0m\u001b[1;33m,\u001b[0m \u001b[0mt_mul\u001b[0m\u001b[1;33m=\u001b[0m\u001b[1;36m2.0\u001b[0m\u001b[1;33m,\u001b[0m \u001b[0mm_mul\u001b[0m\u001b[1;33m=\u001b[0m\u001b[1;36m1.0\u001b[0m\u001b[1;33m,\u001b[0m \u001b[0malpha\u001b[0m\u001b[1;33m=\u001b[0m\u001b[1;36m1e-7\u001b[0m\u001b[1;33m,\u001b[0m\u001b[1;33m\u001b[0m\u001b[1;33m\u001b[0m\u001b[0m\n\u001b[0;32m      3\u001b[0m     \u001b[0mname\u001b[0m\u001b[1;33m=\u001b[0m\u001b[1;32mNone\u001b[0m\u001b[1;33m\u001b[0m\u001b[1;33m\u001b[0m\u001b[0m\n\u001b[0;32m      4\u001b[0m )\n",
      "\u001b[1;31mAttributeError\u001b[0m: module 'tensorflow_core.keras.optimizers.schedules' has no attribute 'CosineDecayRestarts'"
     ]
    }
   ],
   "source": []
  }
 ]
}